{
  "cells": [
    {
      "cell_type": "markdown",
      "metadata": {
        "id": "VpYudTELFW3W"
      },
      "source": [
        "### Gymnasium links\n",
        "\n",
        "Announce: https://farama.org/Announcing-The-Farama-Foundation\n",
        "\n",
        "Github: https://github.com/Farama-Foundation/Gymnasium\n",
        "\n",
        "Documentation: https://gymnasium.farama.org/"
      ]
    },
    {
      "cell_type": "markdown",
      "metadata": {
        "id": "CAIXFtxNFW3Z"
      },
      "source": [
        "# Deep Crossentropy method\n",
        "\n",
        "In this section we'll extend your CEM implementation with neural networks! You will train a multi-layer neural network to solve simple continuous state space games. __Please make sure you're done with tabular crossentropy method from the previous notebook.__\n"
      ]
    },
    {
      "cell_type": "code",
      "execution_count": null,
      "metadata": {
        "colab": {
          "base_uri": "https://localhost:8080/"
        },
        "id": "RTbL96M5FW3a",
        "outputId": "9a0a9652-55b6-4f6c-a1e3-8479dbe85a72"
      },
      "outputs": [
        {
          "output_type": "stream",
          "name": "stdout",
          "text": [
            "Looking in indexes: https://pypi.org/simple, https://us-python.pkg.dev/colab-wheels/public/simple/\n",
            "Collecting gymnasium\n",
            "  Downloading Gymnasium-0.26.3-py3-none-any.whl (836 kB)\n",
            "\u001b[K     |████████████████████████████████| 836 kB 5.0 MB/s \n",
            "\u001b[?25hRequirement already satisfied: cloudpickle>=1.2.0 in /usr/local/lib/python3.7/dist-packages (from gymnasium) (1.5.0)\n",
            "Collecting gymnasium-notices>=0.0.1\n",
            "  Downloading gymnasium_notices-0.0.1-py3-none-any.whl (2.8 kB)\n",
            "Requirement already satisfied: numpy>=1.18.0 in /usr/local/lib/python3.7/dist-packages (from gymnasium) (1.21.6)\n",
            "Requirement already satisfied: importlib-metadata>=4.8.0 in /usr/local/lib/python3.7/dist-packages (from gymnasium) (4.13.0)\n",
            "Requirement already satisfied: typing-extensions>=3.6.4 in /usr/local/lib/python3.7/dist-packages (from importlib-metadata>=4.8.0->gymnasium) (4.1.1)\n",
            "Requirement already satisfied: zipp>=0.5 in /usr/local/lib/python3.7/dist-packages (from importlib-metadata>=4.8.0->gymnasium) (3.10.0)\n",
            "Installing collected packages: gymnasium-notices, gymnasium\n",
            "Successfully installed gymnasium-0.26.3 gymnasium-notices-0.0.1\n",
            "Looking in indexes: https://pypi.org/simple, https://us-python.pkg.dev/colab-wheels/public/simple/\n",
            "Requirement already satisfied: gymnasium[toy_text] in /usr/local/lib/python3.7/dist-packages (0.26.3)\n",
            "Requirement already satisfied: gymnasium-notices>=0.0.1 in /usr/local/lib/python3.7/dist-packages (from gymnasium[toy_text]) (0.0.1)\n",
            "Requirement already satisfied: cloudpickle>=1.2.0 in /usr/local/lib/python3.7/dist-packages (from gymnasium[toy_text]) (1.5.0)\n",
            "Requirement already satisfied: numpy>=1.18.0 in /usr/local/lib/python3.7/dist-packages (from gymnasium[toy_text]) (1.21.6)\n",
            "Requirement already satisfied: importlib-metadata>=4.8.0 in /usr/local/lib/python3.7/dist-packages (from gymnasium[toy_text]) (4.13.0)\n",
            "Collecting pygame==2.1.0\n",
            "  Downloading pygame-2.1.0-cp37-cp37m-manylinux_2_17_x86_64.manylinux2014_x86_64.whl (18.3 MB)\n",
            "\u001b[K     |████████████████████████████████| 18.3 MB 3.7 MB/s \n",
            "\u001b[?25hRequirement already satisfied: typing-extensions>=3.6.4 in /usr/local/lib/python3.7/dist-packages (from importlib-metadata>=4.8.0->gymnasium[toy_text]) (4.1.1)\n",
            "Requirement already satisfied: zipp>=0.5 in /usr/local/lib/python3.7/dist-packages (from importlib-metadata>=4.8.0->gymnasium[toy_text]) (3.10.0)\n",
            "Installing collected packages: pygame\n",
            "Successfully installed pygame-2.1.0\n",
            "Looking in indexes: https://pypi.org/simple, https://us-python.pkg.dev/colab-wheels/public/simple/\n",
            "Requirement already satisfied: gymnasium[classic_control] in /usr/local/lib/python3.7/dist-packages (0.26.3)\n",
            "Requirement already satisfied: numpy>=1.18.0 in /usr/local/lib/python3.7/dist-packages (from gymnasium[classic_control]) (1.21.6)\n",
            "Requirement already satisfied: cloudpickle>=1.2.0 in /usr/local/lib/python3.7/dist-packages (from gymnasium[classic_control]) (1.5.0)\n",
            "Requirement already satisfied: importlib-metadata>=4.8.0 in /usr/local/lib/python3.7/dist-packages (from gymnasium[classic_control]) (4.13.0)\n",
            "Requirement already satisfied: gymnasium-notices>=0.0.1 in /usr/local/lib/python3.7/dist-packages (from gymnasium[classic_control]) (0.0.1)\n",
            "Requirement already satisfied: pygame==2.1.0 in /usr/local/lib/python3.7/dist-packages (from gymnasium[classic_control]) (2.1.0)\n",
            "Requirement already satisfied: typing-extensions>=3.6.4 in /usr/local/lib/python3.7/dist-packages (from importlib-metadata>=4.8.0->gymnasium[classic_control]) (4.1.1)\n",
            "Requirement already satisfied: zipp>=0.5 in /usr/local/lib/python3.7/dist-packages (from importlib-metadata>=4.8.0->gymnasium[classic_control]) (3.10.0)\n",
            "Looking in indexes: https://pypi.org/simple, https://us-python.pkg.dev/colab-wheels/public/simple/\n",
            "Collecting imageio_ffmpeg\n",
            "  Downloading imageio_ffmpeg-0.4.7-py3-none-manylinux2010_x86_64.whl (26.9 MB)\n",
            "\u001b[K     |████████████████████████████████| 26.9 MB 23.6 MB/s \n",
            "\u001b[?25hInstalling collected packages: imageio-ffmpeg\n",
            "Successfully installed imageio-ffmpeg-0.4.7\n",
            "Looking in indexes: https://pypi.org/simple, https://us-python.pkg.dev/colab-wheels/public/simple/\n",
            "Requirement already satisfied: gymnasium[box2d] in /usr/local/lib/python3.7/dist-packages (0.26.3)\n",
            "Requirement already satisfied: cloudpickle>=1.2.0 in /usr/local/lib/python3.7/dist-packages (from gymnasium[box2d]) (1.5.0)\n",
            "Requirement already satisfied: numpy>=1.18.0 in /usr/local/lib/python3.7/dist-packages (from gymnasium[box2d]) (1.21.6)\n",
            "Requirement already satisfied: importlib-metadata>=4.8.0 in /usr/local/lib/python3.7/dist-packages (from gymnasium[box2d]) (4.13.0)\n",
            "Requirement already satisfied: gymnasium-notices>=0.0.1 in /usr/local/lib/python3.7/dist-packages (from gymnasium[box2d]) (0.0.1)\n",
            "Collecting box2d-py==2.3.5\n",
            "  Downloading box2d_py-2.3.5-cp37-cp37m-manylinux1_x86_64.whl (2.1 MB)\n",
            "\u001b[K     |████████████████████████████████| 2.1 MB 5.1 MB/s \n",
            "\u001b[?25hCollecting swig==4.*\n",
            "  Downloading swig-4.1.0-py2.py3-none-manylinux_2_5_x86_64.manylinux1_x86_64.whl (1.8 MB)\n",
            "\u001b[K     |████████████████████████████████| 1.8 MB 34.6 MB/s \n",
            "\u001b[?25hRequirement already satisfied: pygame==2.1.0 in /usr/local/lib/python3.7/dist-packages (from gymnasium[box2d]) (2.1.0)\n",
            "Requirement already satisfied: zipp>=0.5 in /usr/local/lib/python3.7/dist-packages (from importlib-metadata>=4.8.0->gymnasium[box2d]) (3.10.0)\n",
            "Requirement already satisfied: typing-extensions>=3.6.4 in /usr/local/lib/python3.7/dist-packages (from importlib-metadata>=4.8.0->gymnasium[box2d]) (4.1.1)\n",
            "Installing collected packages: swig, box2d-py\n",
            "Successfully installed box2d-py-2.3.5 swig-4.1.0\n"
          ]
        }
      ],
      "source": [
        "# Install gymnasium if you don't have\n",
        "!pip install gymnasium\n",
        "!pip install gymnasium[toy_text]\n",
        "!pip install gymnasium[classic_control]\n",
        "!pip install imageio_ffmpeg\n",
        "!pip install gymnasium[box2d]"
      ]
    },
    {
      "cell_type": "code",
      "execution_count": null,
      "metadata": {
        "id": "IqbSZXShFW3b"
      },
      "outputs": [],
      "source": [
        "import gymnasium as gym\n",
        "import numpy as np\n",
        "import matplotlib.pyplot as plt\n",
        "%matplotlib inline\n",
        "\n",
        "from sklearn.neural_network import MLPRegressor\n",
        "\n",
        "\n",
        "np.random.seed(19)"
      ]
    },
    {
      "cell_type": "markdown",
      "metadata": {
        "id": "MD0uOr8XFW3j"
      },
      "source": [
        "### Bonus tasks (up to 0.5 points)\n",
        "\n",
        "* __2.3 bonus__ Solve continuous action space task with `MLPRegressor` or similar.\n",
        "  * Start with [\"Pendulum-v1\"](https://gymnasium.farama.org/environments/classic_control/pendulum/) __(score -150)__.\n",
        "  * Since your agent only predicts the \"expected\" action, you will have to add noise to ensure exploration.\n",
        "  * Solve [MountainCarContinuous-v0](https://gymnasium.farama.org/environments/classic_control/mountain_car_continuous/) __(score +90)__ or [LunarLanderContinuous-v2](https://gymnasium.farama.org/environments/box2d/lunar_lander/) __(score -200)__. Slightly less points for getting some results below solution threshold. Note that discrete and continuous environments may have slightly different rules aside from action spaces.\n",
        "  * __Please list what you did in anytask submission form__"
      ]
    },
    {
      "cell_type": "markdown",
      "metadata": {
        "id": "_ZlgkEUqB49V"
      },
      "source": [
        "## Обучение LunarLanderContinuous-v2:"
      ]
    },
    {
      "cell_type": "code",
      "source": [
        "env_lander = gym.make(\"LunarLanderContinuous-v2\", render_mode=\"rgb_array\").env\n",
        "\n",
        "env_lander.reset(seed=19)\n",
        "# n_actions = env_lander.action_space.n\n",
        "state_dim = env_lander.observation_space.shape[0]\n",
        "\n",
        "plt.imshow(env_lander.render())\n",
        "print(\"state vector dim =\", state_dim)\n",
        "# print(\"n_actions =\", n_actions)\n",
        "\n",
        "env_lander.close()"
      ],
      "metadata": {
        "colab": {
          "base_uri": "https://localhost:8080/",
          "height": 287
        },
        "outputId": "26de29c4-8b62-422b-8260-260bdf1841cf",
        "id": "0-o2g0jJB49d"
      },
      "execution_count": null,
      "outputs": [
        {
          "output_type": "stream",
          "name": "stdout",
          "text": [
            "state vector dim = 8\n"
          ]
        },
        {
          "output_type": "display_data",
          "data": {
            "text/plain": [
              "<Figure size 432x288 with 1 Axes>"
            ],
            "image/png": "[encoded data removed]"
          },
          "metadata": {
            "needs_background": "light"
          }
        }
      ]
    },
    {
      "cell_type": "code",
      "source": [
        "agent_lander = MLPRegressor(\n",
        "    hidden_layer_sizes=(20, 20),\n",
        "    activation='identity'\n",
        ")\n",
        "\n",
        "agent_lander.partial_fit(env_lander.reset()[0].reshape(1, -1), np.random.randint(low=-500, high=500, size=8).reshape(1, -1))"
      ],
      "metadata": {
        "colab": {
          "base_uri": "https://localhost:8080/"
        },
        "outputId": "1f98a1cf-8158-495f-bbfc-a10da9a706b8",
        "id": "OjJt6eHFB49e"
      },
      "execution_count": null,
      "outputs": [
        {
          "output_type": "execute_result",
          "data": {
            "text/plain": [
              "MLPRegressor(activation='identity', hidden_layer_sizes=(20, 20))"
            ]
          },
          "metadata": {},
          "execution_count": 76
        }
      ]
    },
    {
      "cell_type": "code",
      "execution_count": null,
      "metadata": {
        "id": "HwQCayIlB49e"
      },
      "outputs": [],
      "source": [
        "def generate_session(agent, env, sigma=1, t_max=10**4, test=False):\n",
        "    \"\"\"\n",
        "    Play a single game using agent neural network.\n",
        "    Terminate when game finishes or after :t_max: steps\n",
        "    \"\"\"\n",
        "    states, actions = [], []\n",
        "    total_reward = 0\n",
        "\n",
        "    s, _ = env.reset(seed=19)\n",
        "\n",
        "    for t in range(t_max):\n",
        "        \n",
        "        probs = np.squeeze(agent.predict([s]))\n",
        "\n",
        "        if test:\n",
        "            a = probs\n",
        "        else:\n",
        "            a = probs + sigma * np.random.randn(1)\n",
        "\n",
        "        new_s, r, done, info, _ = env.step(a)\n",
        "\n",
        "        states.append(s)\n",
        "        actions.append(a)\n",
        "        total_reward += r\n",
        "\n",
        "        s = new_s\n",
        "        if done:\n",
        "            break\n",
        "    return states, actions, total_reward"
      ]
    },
    {
      "cell_type": "code",
      "execution_count": null,
      "metadata": {
        "id": "xP8YCfpjB49e"
      },
      "outputs": [],
      "source": [
        "def select_elites(states_batch, actions_batch, rewards_batch, percentile=50):\n",
        "    \"\"\"\n",
        "    Select states and actions from games that have rewards >= percentile\n",
        "    :param states_batch: list of lists of states, states_batch[session_i][t]\n",
        "    :param actions_batch: list of lists of actions, actions_batch[session_i][t]\n",
        "    :param rewards_batch: list of rewards, rewards_batch[session_i]\n",
        "\n",
        "    :returns: elite_states,elite_actions, both 1D lists of states and respective actions from elite sessions\n",
        "\n",
        "    Please return elite states and actions in their original order \n",
        "    [i.e. sorted by session number and timestep within session]\n",
        "\n",
        "    If you are confused, see examples below. Please don't assume that states are integers\n",
        "    (they will become different later).\n",
        "    \"\"\"\n",
        "\n",
        "    reward_threshold = np.percentile(rewards_batch, q=percentile)\n",
        "\n",
        "    elite_states, elite_actions = [], []\n",
        "    \n",
        "    for i in range(len(rewards_batch)):\n",
        "        if rewards_batch[i] > reward_threshold:\n",
        "            elite_actions.extend(actions_batch[i])\n",
        "            elite_states.extend(states_batch[i])\n",
        "\n",
        "    # Let's see that it differs from tabular `select_elites`.\n",
        "    # Our neural network now is trained with one object and it takes an input of `(1, n_states)`.\n",
        "    # So, we should use `np.squeeze` to remove leading dimension in the deep `select_elites`.\n",
        "    \n",
        "    return elite_states, elite_actions"
      ]
    },
    {
      "cell_type": "code",
      "execution_count": null,
      "metadata": {
        "id": "wLsyUudzB49e"
      },
      "outputs": [],
      "source": [
        "from IPython.display import clear_output\n",
        "\n",
        "def show_progress(rewards_batch, log, percentile, reward_range=[-990, +10]):\n",
        "    \"\"\"\n",
        "    A convenience function that displays training progress. \n",
        "    No cool math here, just charts.\n",
        "    \"\"\"\n",
        "\n",
        "    mean_reward = np.mean(rewards_batch)\n",
        "    threshold = np.percentile(rewards_batch, percentile)\n",
        "    log.append([mean_reward, threshold])\n",
        "\n",
        "    print(\"mean reward = %.3f, threshold=%.3f\" % (mean_reward, threshold))\n",
        "    plt.figure(figsize=[8, 4])\n",
        "    plt.subplot(1, 2, 1)\n",
        "    plt.plot(list(zip(*log))[0], label='Mean rewards')\n",
        "    plt.plot(list(zip(*log))[1], label='Reward thresholds')\n",
        "    plt.legend()\n",
        "    plt.grid()\n",
        "\n",
        "    plt.subplot(1, 2, 2)\n",
        "    plt.hist(rewards_batch, range=reward_range)\n",
        "    plt.vlines([np.percentile(rewards_batch, percentile)],\n",
        "               [0], [100], label=\"percentile\", color='red')\n",
        "    plt.legend()\n",
        "    plt.grid()\n",
        "\n",
        "    clear_output(True)\n",
        "    plt.show()"
      ]
    },
    {
      "cell_type": "code",
      "execution_count": null,
      "metadata": {
        "colab": {
          "base_uri": "https://localhost:8080/",
          "height": 300
        },
        "outputId": "812fac85-d01b-470d-f377-ce72f103c4bf",
        "id": "RYY5tqhXB49e"
      },
      "outputs": [
        {
          "output_type": "display_data",
          "data": {
            "text/plain": [
              "<Figure size 576x288 with 2 Axes>"
            ],
            "image/png": "[encoded data removed]"
          },
          "metadata": {
            "needs_background": "light"
          }
        },
        {
          "output_type": "stream",
          "name": "stdout",
          "text": [
            "You Win! You may stop training now.\n",
            "Total time: 0:14:04.306898\n"
          ]
        }
      ],
      "source": [
        "# %%time\n",
        "from datetime import datetime as dt\n",
        "start_time = dt.now()\n",
        "\n",
        "n_sessions = 100\n",
        "percentile = 70\n",
        "log = []\n",
        "\n",
        "for i in range(200):\n",
        "    # generate new sessions\n",
        "    sessions = [generate_session(agent_lander, env_lander) for _ in range(n_sessions)]\n",
        "\n",
        "    states_batch, actions_batch, rewards_batch = map(np.array, zip(*sessions))\n",
        "\n",
        "    elite_states, elite_actions = select_elites(states_batch, actions_batch, \n",
        "                                                rewards_batch, percentile)\n",
        "\n",
        "    agent_lander.partial_fit(elite_states, elite_actions)\n",
        "\n",
        "    show_progress(rewards_batch, log, percentile, reward_range=[np.min(rewards_batch), np.max(rewards_batch)])\n",
        "\n",
        "    if np.mean(rewards_batch) > -200:\n",
        "        print(\"You Win! You may stop training now.\")\n",
        "        break\n",
        "\n",
        "print(f'Total time: {dt.now() - start_time}')"
      ]
    },
    {
      "cell_type": "markdown",
      "metadata": {
        "id": "C9BcfbY7yI28"
      },
      "source": [
        "## Обучение Pendulum-v1:"
      ]
    },
    {
      "cell_type": "code",
      "source": [
        "env_pendulum = gym.make(\"Pendulum-v1\", render_mode=\"rgb_array\").env\n",
        "\n",
        "env_pendulum.reset(seed=19)\n",
        "# n_actions = env_pendulum.action_space.n\n",
        "state_dim = env_pendulum.observation_space.shape[0]\n",
        "\n",
        "plt.imshow(env_pendulum.render())\n",
        "print(\"state vector dim =\", state_dim)\n",
        "# print(\"n_actions =\", n_actions)\n",
        "\n",
        "env_pendulum.close()"
      ],
      "metadata": {
        "colab": {
          "base_uri": "https://localhost:8080/",
          "height": 287
        },
        "id": "vdMovc1Ei7FB",
        "outputId": "9954093b-d185-4d7f-8290-81322acd1491"
      },
      "execution_count": null,
      "outputs": [
        {
          "output_type": "stream",
          "name": "stdout",
          "text": [
            "state vector dim = 3\n"
          ]
        },
        {
          "output_type": "display_data",
          "data": {
            "text/plain": [
              "<Figure size 432x288 with 1 Axes>"
            ],
            "image/png": "[encoded data removed]"
          },
          "metadata": {
            "needs_background": "light"
          }
        }
      ]
    },
    {
      "cell_type": "code",
      "source": [
        "agent_pendulum = MLPRegressor(\n",
        "    hidden_layer_sizes=(16, 128, 16),\n",
        "    activation='tanh',\n",
        ")\n",
        "\n",
        "agent_pendulum.partial_fit(env_pendulum.reset()[0].reshape(1, -1), np.random.randint(low=-1, high=1, size=3).reshape(1, -1))"
      ],
      "metadata": {
        "colab": {
          "base_uri": "https://localhost:8080/"
        },
        "id": "sAQjWElEjTeg",
        "outputId": "8f717d70-d960-42ed-e8c2-d7de1b2bd541"
      },
      "execution_count": null,
      "outputs": [
        {
          "output_type": "execute_result",
          "data": {
            "text/plain": [
              "MLPRegressor(activation='tanh', hidden_layer_sizes=(16, 128, 16))"
            ]
          },
          "metadata": {},
          "execution_count": 90
        }
      ]
    },
    {
      "cell_type": "code",
      "execution_count": null,
      "metadata": {
        "colab": {
          "base_uri": "https://localhost:8080/",
          "height": 265
        },
        "id": "j41NsRPbePyq",
        "outputId": "bea0299a-4a2d-4bad-bb96-c26fd052f96b"
      },
      "outputs": [
        {
          "output_type": "display_data",
          "data": {
            "text/plain": [
              "<Figure size 576x288 with 2 Axes>"
            ],
            "image/png": "[encoded data removed]"
          },
          "metadata": {
            "needs_background": "light"
          }
        }
      ],
      "source": [
        "# %%time\n",
        "from datetime import datetime as dt\n",
        "start_time = dt.now()\n",
        "\n",
        "n_sessions = 100\n",
        "percentile = 70\n",
        "log = []\n",
        "\n",
        "for i in range(200):\n",
        "    # generate new sessions\n",
        "    sessions = [generate_session(agent_pendulum, env_pendulum) for _ in range(n_sessions)]\n",
        "\n",
        "    states_batch, actions_batch, rewards_batch = map(np.array, zip(*sessions))\n",
        "\n",
        "    elite_states, elite_actions = select_elites(states_batch, actions_batch, \n",
        "                                                rewards_batch, percentile)\n",
        "\n",
        "    agent_pendulum.partial_fit(elite_states, elite_actions)\n",
        "\n",
        "    show_progress(rewards_batch, log, percentile, reward_range=[np.min(rewards_batch), np.max(rewards_batch)])\n",
        "\n",
        "    if np.mean(rewards_batch) > -150:\n",
        "        print(\"You Win! You may stop training now.\")\n",
        "        break\n",
        "\n",
        "print(f'Total time: {dt.now() - start_time}')"
      ]
    },
    {
      "cell_type": "markdown",
      "source": [
        "#### Вывод: у маятника тенденция к сходимости за 100-200 итераций есть, однако каждая длится долго и колаб отключается.\n"
      ],
      "metadata": {
        "id": "9CMwpnyVnQjc"
      }
    },
    {
      "cell_type": "code",
      "execution_count": null,
      "metadata": {
        "id": "nN1p2YJQyYiG"
      },
      "outputs": [],
      "source": []
    }
  ],
  "metadata": {
    "colab": {
      "collapsed_sections": [],
      "provenance": []
    },
    "gpuClass": "standard",
    "kernelspec": {
      "display_name": "Python 3",
      "name": "python3"
    },
    "language_info": {
      "name": "python"
    }
  },
  "nbformat": 4,
  "nbformat_minor": 0
}